{
 "cells": [
  {
   "cell_type": "markdown",
   "id": "0f08ec1e",
   "metadata": {},
   "source": [
    "# COS Interactive Frontend\n",
    "\n"
   ]
  },
  {
   "cell_type": "code",
   "execution_count": 3,
   "id": "ea63d846",
   "metadata": {
    "scrolled": false
   },
   "outputs": [
    {
     "data": {
      "application/vnd.jupyter.widget-view+json": {
       "model_id": "e027d60ce15c47899ab453c519a385c9",
       "version_major": 2,
       "version_minor": 0
      },
      "text/plain": [
       "VBox(children=(Dropdown(description='serverMode', layout=Layout(height='30px', width='350px'), options=('local…"
      ]
     },
     "metadata": {},
     "output_type": "display_data"
    },
    {
     "data": {
      "application/vnd.jupyter.widget-view+json": {
       "model_id": "f37349a015574e588a2b478c8b7e60fe",
       "version_major": 2,
       "version_minor": 0
      },
      "text/plain": [
       "FigureWidget({\n",
       "    'data': [{'line': {'color': 'gray', 'dash': 'dash'},\n",
       "              'name': 'ref',\n",
       "         …"
      ]
     },
     "metadata": {},
     "output_type": "display_data"
    }
   ],
   "source": [
    "#imports\n",
    "import plotly.graph_objects as go\n",
    "import ipywidgets as widgets\n",
    "from ipywidgets import interact , Layout , FloatSlider , Checkbox , Dropdown\n",
    "from IPython.display import display\n",
    "import numpy as np\n",
    "from cos_client import CosSend\n",
    "\n",
    "#configure layout of graph\n",
    "fig = go.FigureWidget()\n",
    "fig.update_xaxes(range=[0,.5])\n",
    "fig.update_yaxes(range=[-2,2])\n",
    "\n",
    "\n",
    "#initialize all plots present in visualization\n",
    "fig.add_scatter(line=dict(color='gray',dash='dash'), name = \"ref\")\n",
    "fig.add_scatter(line=dict(color='blue'), name = \"fromServer\")\n",
    "\n",
    "#setup UI\n",
    "layout=Layout(width='350px', height='30px')\n",
    "mode = Dropdown(options=[\"local\",\"remote\"],value=\"local\",description='serverMode',layout=layout)\n",
    "\n",
    "amp =   FloatSlider(min=.5,       max=2,      step=.2,value=1,description='A', layout=layout)\n",
    "freq =  FloatSlider(min=.5,       max=5,      step=.2,value=1,description='f', layout=layout)\n",
    "phase = FloatSlider(min= -np.pi/2,max=np.pi/2,step=.2,value=0,description='ϕ', layout=layout)\n",
    "\n",
    "ui = widgets.VBox([mode,amp,freq,phase])\n",
    "\n",
    "wdict = {\"mode\":mode,\n",
    "         \"amp\":amp,\n",
    "         \"freq\":freq,\n",
    "         \"phase\":phase}\n",
    "\n",
    "\n",
    "def update(mode=\"remote\",amp=1,freq=1,phase=0):\n",
    "    \n",
    "    with fig.batch_update():\n",
    "        \n",
    "        #plot reference curve\n",
    "        fig.data[0]['x'] = np.arange(0,.499,.001)\n",
    "        fig.data[0]['y'] = np.cos(np.pi*np.arange(0,.499,.001))\n",
    "        \n",
    "        # get data from server:\n",
    "        addrs = {\"local\":\"localhost\",\n",
    "                 \"remote\":\"52.14.158.17\"}\n",
    "        data =  CosSend(amp,freq,phase,addrs[mode])\n",
    "        \n",
    "        #update parameters\n",
    "        fig.data[1]['x'] = np.arange(0,.499,.001)\n",
    "        fig.data[1]['y'] = data \n",
    "        #fig.data[1]['y'] = amp*np.cos(2*np.pi*np.arange(0,.499,.001)*freq + phase)\n",
    "        \n",
    "        \n",
    "#display interactive figure\n",
    "out = widgets.interactive_output(update, wdict)\n",
    "display(ui)\n",
    "display(fig)\n",
    "\n"
   ]
  },
  {
   "cell_type": "code",
   "execution_count": null,
   "id": "4326481b",
   "metadata": {},
   "outputs": [],
   "source": []
  }
 ],
 "metadata": {
  "kernelspec": {
   "display_name": "Python 3 (ipykernel)",
   "language": "python",
   "name": "python3"
  },
  "language_info": {
   "codemirror_mode": {
    "name": "ipython",
    "version": 3
   },
   "file_extension": ".py",
   "mimetype": "text/x-python",
   "name": "python",
   "nbconvert_exporter": "python",
   "pygments_lexer": "ipython3",
   "version": "3.7.16"
  }
 },
 "nbformat": 4,
 "nbformat_minor": 5
}
